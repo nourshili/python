{
  "nbformat": 4,
  "nbformat_minor": 0,
  "metadata": {
    "colab": {
      "name": "Untitled2.ipynb",
      "provenance": [],
      "collapsed_sections": [],
      "authorship_tag": "ABX9TyMo2l2i1OHzELQ1KVTQhwGp",
      "include_colab_link": true
    },
    "kernelspec": {
      "name": "python3",
      "display_name": "Python 3"
    },
    "language_info": {
      "name": "python"
    }
  },
  "cells": [
    {
      "cell_type": "markdown",
      "metadata": {
        "id": "view-in-github",
        "colab_type": "text"
      },
      "source": [
        "<a href=\"https://colab.research.google.com/github/nourshili/python/blob/gh-pages/Untitled2.ipynb\" target=\"_parent\"><img src=\"https://colab.research.google.com/assets/colab-badge.svg\" alt=\"Open In Colab\"/></a>"
      ]
    },
    {
      "cell_type": "code",
      "metadata": {
        "id": "chFTv1Bi6N_N",
        "colab": {
          "base_uri": "https://localhost:8080/"
        },
        "outputId": "9cd376d6-e1ee-46c5-b2b3-e64c788daf44"
      },
      "source": [
        "def div ():\n",
        "  liste=[]\n",
        "  for i in range (2000,3201):\n",
        "     if (i%5!=0)and (i%7==0):\n",
        "       liste.append(i) \n",
        "  return liste\n",
        "print (div())\n",
        "\n",
        " "
      ],
      "execution_count": 11,
      "outputs": [
        {
          "output_type": "stream",
          "text": [
            "[2002, 2009, 2016, 2023, 2037, 2044, 2051, 2058, 2072, 2079, 2086, 2093, 2107, 2114, 2121, 2128, 2142, 2149, 2156, 2163, 2177, 2184, 2191, 2198, 2212, 2219, 2226, 2233, 2247, 2254, 2261, 2268, 2282, 2289, 2296, 2303, 2317, 2324, 2331, 2338, 2352, 2359, 2366, 2373, 2387, 2394, 2401, 2408, 2422, 2429, 2436, 2443, 2457, 2464, 2471, 2478, 2492, 2499, 2506, 2513, 2527, 2534, 2541, 2548, 2562, 2569, 2576, 2583, 2597, 2604, 2611, 2618, 2632, 2639, 2646, 2653, 2667, 2674, 2681, 2688, 2702, 2709, 2716, 2723, 2737, 2744, 2751, 2758, 2772, 2779, 2786, 2793, 2807, 2814, 2821, 2828, 2842, 2849, 2856, 2863, 2877, 2884, 2891, 2898, 2912, 2919, 2926, 2933, 2947, 2954, 2961, 2968, 2982, 2989, 2996, 3003, 3017, 3024, 3031, 3038, 3052, 3059, 3066, 3073, 3087, 3094, 3101, 3108, 3122, 3129, 3136, 3143, 3157, 3164, 3171, 3178, 3192, 3199]\n"
          ],
          "name": "stdout"
        }
      ]
    },
    {
      "cell_type": "code",
      "metadata": {
        "colab": {
          "base_uri": "https://localhost:8080/"
        },
        "id": "NSHd0NkPAlkE",
        "outputId": "ea228726-5cab-44ce-847f-dae33bdb0ebf"
      },
      "source": [
        "def factoriel (n):\n",
        "  x=1\n",
        "  if n==0:\n",
        "    return 0\n",
        "  else:\n",
        "     for i in range(1,n+1):\n",
        "        x=x*i\n",
        "  return x\n",
        "print (factoriel(4))"
      ],
      "execution_count": null,
      "outputs": [
        {
          "output_type": "stream",
          "text": [
            "24\n"
          ],
          "name": "stdout"
        }
      ]
    },
    {
      "cell_type": "code",
      "metadata": {
        "colab": {
          "base_uri": "https://localhost:8080/"
        },
        "id": "kke64aBLHc78",
        "outputId": "92f9c3c7-9465-4fcc-cc29-97c8e4be8032"
      },
      "source": [
        "n=int(input())\n",
        "{i:i*i for i in range(1,n+1)}"
      ],
      "execution_count": null,
      "outputs": [
        {
          "output_type": "stream",
          "text": [
            "8\n"
          ],
          "name": "stdout"
        },
        {
          "output_type": "execute_result",
          "data": {
            "text/plain": [
              "{1: 1, 2: 4, 3: 9, 4: 16, 5: 25, 6: 36, 7: 49, 8: 64}"
            ]
          },
          "metadata": {
            "tags": []
          },
          "execution_count": 34
        }
      ]
    },
    {
      "cell_type": "code",
      "metadata": {
        "colab": {
          "base_uri": "https://localhost:8080/"
        },
        "id": "aLhf7QyVGh2Q",
        "outputId": "c7481c9e-2205-47c8-f4e6-2a8f7a705b28"
      },
      "source": [
        "def missing_char (ch,n):\n",
        "  \n",
        "  if (ch!='' ) and (n in range(0,len(ch))):\n",
        "    return ch.replace(ch[n], '')\n",
        "print (missing_char ('nour',1))\n",
        "   \n"
      ],
      "execution_count": null,
      "outputs": [
        {
          "output_type": "stream",
          "text": [
            "nur\n"
          ],
          "name": "stdout"
        }
      ]
    },
    {
      "cell_type": "code",
      "metadata": {
        "colab": {
          "base_uri": "https://localhost:8080/"
        },
        "id": "ssFWD2TDQTKS",
        "outputId": "c3d0fd24-9101-4c18-efd3-6fa5d27ee65e"
      },
      "source": [
        "import numpy as np\n",
        "a=np.array([[0,1],[2,3],[4,5]])\n",
        "b = a.tolist()\n",
        "print(b)"
      ],
      "execution_count": null,
      "outputs": [
        {
          "output_type": "stream",
          "text": [
            "[[0, 1], [2, 3], [4, 5]]\n"
          ],
          "name": "stdout"
        }
      ]
    },
    {
      "cell_type": "code",
      "metadata": {
        "colab": {
          "base_uri": "https://localhost:8080/"
        },
        "id": "rUFw2idfUIn_",
        "outputId": "15c1000b-c671-4695-f815-9e0ac43ffdfe"
      },
      "source": [
        "import numpy as np\n",
        "a=np.array([0,1,2])\n",
        "b=np.array([2,1,0])\n",
        "print (np.cov(a,b))\n",
        "\n"
      ],
      "execution_count": null,
      "outputs": [
        {
          "output_type": "stream",
          "text": [
            "[[ 1. -1.]\n",
            " [-1.  1.]]\n"
          ],
          "name": "stdout"
        }
      ]
    },
    {
      "cell_type": "code",
      "metadata": {
        "id": "MwIG7977XzKw",
        "colab": {
          "base_uri": "https://localhost:8080/"
        },
        "outputId": "29cae814-ced2-4d1b-eb7f-d44d908c4f05"
      },
      "source": [
        "import math\n",
        "c=50\n",
        "h=30\n",
        "\n",
        "numbers = input(\"Provide D: \")\n",
        "numbers = numbers.split(',')\n",
        "\n",
        "result_list = []\n",
        "for D in numbers:\n",
        "    Q = round(math.sqrt(2 * 50 * int(D) / 30))\n",
        "    result_list.append(Q)\n",
        "\n",
        "print(result_list)\n"
      ],
      "execution_count": 12,
      "outputs": [
        {
          "output_type": "stream",
          "text": [
            "Provide D: 100\n",
            "[18]\n"
          ],
          "name": "stdout"
        }
      ]
    }
  ]
}